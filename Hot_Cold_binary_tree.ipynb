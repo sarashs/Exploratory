{
 "cells": [
  {
   "cell_type": "code",
   "execution_count": 1,
   "metadata": {},
   "outputs": [],
   "source": [
    "from ThoughtKit import *\n",
    "import sys\n",
    "sys.modules['ThoughtKit'].DEBUG = True\n",
    "sys.modules['ThoughtKit'].MODEL = \"gpt-4o-mini\"\n",
    "from pprint import pprint"
   ]
  },
  {
   "cell_type": "code",
   "execution_count": 6,
   "metadata": {},
   "outputs": [
    {
     "name": "stdout",
     "output_type": "stream",
     "text": [
      "Current Depth: 0 out of 5\n"
     ]
    }
   ],
   "source": [
    "query = \"\"\"You are playing Russian roulette with a six-shooter revolver. \n",
    "Your opponent puts in five bullets, spins the chambers and fires at himself, but no bullet comes out. \n",
    "He gives you the choice of whether or not he should spin the chambers again before firing at you. \n",
    "Should he spin again? Your final answer should start with yes or no.\"\"\"\n",
    "tree = Tree(Status_model, Thought_model, Solution_model, Equivalence_model, Compare_model, max_depth=5)\n",
    "tree._max_num_solutions = 4\n",
    "thoughts, best = tree.shortest_paths(query, max_paths_per_node = 5)"
   ]
  },
  {
   "cell_type": "code",
   "execution_count": 3,
   "metadata": {},
   "outputs": [
    {
     "name": "stdout",
     "output_type": "stream",
     "text": [
      "'no'\n"
     ]
    }
   ],
   "source": [
    "pprint(best)"
   ]
  },
  {
   "cell_type": "code",
   "execution_count": 4,
   "metadata": {},
   "outputs": [
    {
     "data": {
      "text/plain": [
       "['no']"
      ]
     },
     "execution_count": 4,
     "metadata": {},
     "output_type": "execute_result"
    }
   ],
   "source": [
    "tree.solutions"
   ]
  },
  {
   "cell_type": "code",
   "execution_count": 5,
   "metadata": {},
   "outputs": [
    {
     "data": {
      "text/plain": [
       "[['You are playing Russian roulette with a six-shooter revolver. \\nYour opponent puts in five bullets, spins the chambers and fires at himself, but no bullet comes out. \\nHe gives you the choice of whether or not he should spin the chambers again before firing at you. \\nShould he spin again? Your final answer should start with yes or no.',\n",
       "  'If the opponent fired and no bullet came out, there is one empty chamber and five chambers with bullets. The probability of the next chamber being empty without spinning again is 1 out of 5, while spinning again gives a 1 out of 6 chance of being empty. I need to compare these probabilities to make a decision on whether he should spin again or not.',\n",
       "  'The probability of the next chamber being empty without spinning again is 1/5, while the probability of it being empty if he spins again is 1/6. I need to determine which probability is higher to decide if he should spin again or not.',\n",
       "  'Since 1/5 is greater than 1/6, it is safer to not spin again because the chance of survival is higher without spinning the chambers again.',\n",
       "  'Therefore, I conclude that the opponent should not spin the chambers again, as it increases my chances of survival by keeping the current configuration of chambers.']]"
      ]
     },
     "execution_count": 5,
     "metadata": {},
     "output_type": "execute_result"
    }
   ],
   "source": [
    "tree.solution_thoughts"
   ]
  },
  {
   "cell_type": "code",
   "execution_count": 72,
   "metadata": {},
   "outputs": [
    {
     "name": "stderr",
     "output_type": "stream",
     "text": [
      "100%|██████████| 20/20 [46:33<00:00, 139.68s/it] \n"
     ]
    }
   ],
   "source": [
    "sys.modules['ThoughtKit'].DEBUG = False\n",
    "\n",
    "from tqdm import tqdm\n",
    "\n",
    "aneal_tree_results = []\n",
    "bin_tree_results = []\n",
    "chain_results = []\n",
    "anneal_chain_results = []\n",
    "regular_tree_results = []\n",
    "\n",
    "aneal_chain = AnnealChain(Status_model, Thought_model, Solution_model)\n",
    "chain = Chain(Status_model, Thought_model, Solution_model)\n",
    "bintree = BinTree(Status_model, Thought_model, Solution_model, Equivalence_model, Compare_model, max_depth=5)\n",
    "anneal_tree = SimpleAnnealTree(Status_model, Thought_model, Solution_model, Equivalence_model, Compare_model, max_depth=5)\n",
    "tree = Tree(Status_model, Thought_model, Solution_model, Equivalence_model, Compare_model, max_depth=5)\n",
    "\n",
    "question = \"\"\"You are playing Russian roulette with a six-shooter revolver. \n",
    "Your opponent puts in five bullets, spins the chambers and fires at himself, but no bullet comes out. \n",
    "He gives you the choice of whether or not he should spin the chambers again before firing at you. \n",
    "Should he spin again? Your final answer should start with a yes or no.\"\"\"#\"If I am not not not not not hungry, do I want to eat? Your final answer should be a yes or no.\"\n",
    "\n",
    "for i in tqdm(range(20)):\n",
    "    \n",
    "    try:\n",
    "        best = aneal_chain(question, T_init=1.2, max_length=5)\n",
    "        anneal_chain_results.append(best)\n",
    "    except:\n",
    "        pass\n",
    "    try:\n",
    "        best = chain(question, max_length=5, T=1.2)\n",
    "        chain_results.append(best)\n",
    "    except:\n",
    "        pass\n",
    "    try:\n",
    "        thoughts, best = bintree(question)\n",
    "        bin_tree_results.append(best)\n",
    "    except:\n",
    "        pass\n",
    "    try:\n",
    "        thoughts, best = anneal_tree(question, T_init=1.2)\n",
    "        aneal_tree_results.append(best)\n",
    "    except:\n",
    "        pass\n",
    "    try:\n",
    "        thoughts, best = tree(question, T=1.2)\n",
    "        regular_tree_results.append(best)\n",
    "    except:\n",
    "        pass"
   ]
  },
  {
   "cell_type": "code",
   "execution_count": 34,
   "metadata": {},
   "outputs": [
    {
     "ename": "NameError",
     "evalue": "name 'anneal_chain_results' is not defined",
     "output_type": "error",
     "traceback": [
      "\u001b[1;31m---------------------------------------------------------------------------\u001b[0m",
      "\u001b[1;31mNameError\u001b[0m                                 Traceback (most recent call last)",
      "Cell \u001b[1;32mIn[34], line 3\u001b[0m\n\u001b[0;32m      1\u001b[0m count_nos \u001b[38;5;241m=\u001b[39m \u001b[38;5;28;01mlambda\u001b[39;00m l: \u001b[38;5;28msum\u001b[39m([\u001b[38;5;241m1\u001b[39m \u001b[38;5;28;01mfor\u001b[39;00m i \u001b[38;5;129;01min\u001b[39;00m l \u001b[38;5;28;01mif\u001b[39;00m \u001b[38;5;124m\"\u001b[39m\u001b[38;5;124myes\u001b[39m\u001b[38;5;124m\"\u001b[39m \u001b[38;5;129;01min\u001b[39;00m i[:\u001b[38;5;241m5\u001b[39m]\u001b[38;5;241m.\u001b[39mlower()])\u001b[38;5;241m/\u001b[39m\u001b[38;5;28mlen\u001b[39m(l)\n\u001b[1;32m----> 3\u001b[0m \u001b[38;5;28mprint\u001b[39m(\u001b[38;5;124mf\u001b[39m\u001b[38;5;124m\"\u001b[39m\u001b[38;5;124mAnneal Chain: \u001b[39m\u001b[38;5;132;01m{\u001b[39;00mcount_nos(\u001b[43manneal_chain_results\u001b[49m)\u001b[38;5;132;01m}\u001b[39;00m\u001b[38;5;124m \u001b[39m\u001b[38;5;130;01m\\n\u001b[39;00m\u001b[38;5;124m Chain: \u001b[39m\u001b[38;5;132;01m{\u001b[39;00mcount_nos(chain_results)\u001b[38;5;132;01m}\u001b[39;00m\u001b[38;5;124m \u001b[39m\u001b[38;5;130;01m\\n\u001b[39;00m\u001b[38;5;124m regular tree: \u001b[39m\u001b[38;5;132;01m{\u001b[39;00mcount_nos(regular_tree_results)\u001b[38;5;132;01m}\u001b[39;00m\u001b[38;5;124m \u001b[39m\u001b[38;5;130;01m\\n\u001b[39;00m\u001b[38;5;124m Bin Tree: \u001b[39m\u001b[38;5;132;01m{\u001b[39;00mcount_nos(bin_tree_results)\u001b[38;5;132;01m}\u001b[39;00m\u001b[38;5;124m \u001b[39m\u001b[38;5;130;01m\\n\u001b[39;00m\u001b[38;5;124m Anneal Tree: \u001b[39m\u001b[38;5;132;01m{\u001b[39;00mcount_nos(aneal_tree_results)\u001b[38;5;132;01m}\u001b[39;00m\u001b[38;5;124m\"\u001b[39m)\n",
      "\u001b[1;31mNameError\u001b[0m: name 'anneal_chain_results' is not defined"
     ]
    }
   ],
   "source": [
    "count_nos = lambda l: sum([1 for i in l if \"yes\" in i[:5].lower()])/len(l)\n",
    "\n",
    "print(f\"Anneal Chain: {count_nos(anneal_chain_results)} \\n Chain: {count_nos(chain_results)} \\n regular tree: {count_nos(regular_tree_results)} \\n Bin Tree: {count_nos(bin_tree_results)} \\n Anneal Tree: {count_nos(aneal_tree_results)}\")"
   ]
  },
  {
   "cell_type": "code",
   "execution_count": 71,
   "metadata": {},
   "outputs": [
    {
     "data": {
      "text/plain": [
       "[['You are playing Russian roulette with a six-shooter revolver. \\nYour opponent puts in five bullets, spins the chambers and fires at himself, but no bullet comes out. \\nHe gives you the choice of whether or not he should spin the chambers again before firing at you. \\nShould he spin again? Your final answer should be a yes or no.',\n",
       "  \"To determine whether spinning again is safer, I need to assess the current situation and probabilities without moving Chambers, given one safe shot has occurred already, compared to the distribution of chambers post-spin. Calculating the likelihood of getting shot if he doesn't spin again versus if he does will guide my decision.\",\n",
       "  'If the opponent does not spin again, there are only five possible chambers remaining, one of which is empty. Since he survived the first shot, we know that one of the chambers was not selected, leaving four bullets and one empty remaining in the five available chambers. I will calculate the probability of survival if the chambers are not spun again versus if they are spun, where spinning will reset the risk to 5 bullets in 6 chambers.',\n",
       "  'If the chambers are not spun again, the probability of the next shot being empty is 1 out of 5, since there are 4 bullets and 1 empty chamber remaining. If he spins again, the probability of the next shot being empty is 1 out of 6, because that resets the scenario back to a full revolver with 5 bullets and 1 empty chamber. Now, I need to compare these probabilities to make an informed decision on whether he should spin again or not.'],\n",
       " ['You are playing Russian roulette with a six-shooter revolver. \\nYour opponent puts in five bullets, spins the chambers and fires at himself, but no bullet comes out. \\nHe gives you the choice of whether or not he should spin the chambers again before firing at you. \\nShould he spin again? Your final answer should be a yes or no.',\n",
       "  \"To determine whether spinning again is safer, I need to assess the current situation and probabilities without moving Chambers, given one safe shot has occurred already, compared to the distribution of chambers post-spin. Calculating the likelihood of getting shot if he doesn't spin again versus if he does will guide my decision.\",\n",
       "  'If the opponent does not spin again, there are only five possible chambers remaining, one of which is empty. Since he survived the first shot, we know that one of the chambers was not selected, leaving four bullets and one empty remaining in the five available chambers. I will calculate the probability of survival if the chambers are not spun again versus if they are spun, where spinning will reset the risk to 5 bullets in 6 chambers.',\n",
       "  'If the opponent does not spin again, the probability of survival is 1 out of 5, since there are four bullets and one empty chamber remaining. However, if he spins again, the probability of survival changes to 1 out of 6, since there are still five bullets in the six chambers. Now, I will compare these probabilities to determine if spinning again is safer or not.']]"
      ]
     },
     "execution_count": 71,
     "metadata": {},
     "output_type": "execute_result"
    }
   ],
   "source": [
    "anneal_tree.solution_thoughts"
   ]
  },
  {
   "cell_type": "code",
   "execution_count": 74,
   "metadata": {},
   "outputs": [
    {
     "data": {
      "text/plain": [
       "['Yes',\n",
       " 'Yes',\n",
       " 'Yes',\n",
       " 'Yes',\n",
       " 'Yes',\n",
       " 'Yes',\n",
       " 'Yes',\n",
       " 'Yes',\n",
       " 'Yes',\n",
       " 'Yes',\n",
       " 'Yes',\n",
       " 'Yes',\n",
       " 'Yes',\n",
       " 'Yes',\n",
       " 'Yes',\n",
       " 'Yes',\n",
       " 'Yes',\n",
       " 'Yes',\n",
       " 'Yes',\n",
       " 'Yes']"
      ]
     },
     "execution_count": 74,
     "metadata": {},
     "output_type": "execute_result"
    }
   ],
   "source": [
    "regular_tree_results"
   ]
  }
 ],
 "metadata": {
  "kernelspec": {
   "display_name": "base",
   "language": "python",
   "name": "python3"
  },
  "language_info": {
   "codemirror_mode": {
    "name": "ipython",
    "version": 3
   },
   "file_extension": ".py",
   "mimetype": "text/x-python",
   "name": "python",
   "nbconvert_exporter": "python",
   "pygments_lexer": "ipython3",
   "version": "3.10.9"
  }
 },
 "nbformat": 4,
 "nbformat_minor": 2
}
