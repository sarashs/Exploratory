{
 "cells": [
  {
   "cell_type": "markdown",
   "metadata": {},
   "source": [
    "# List all countries"
   ]
  },
  {
   "cell_type": "code",
   "execution_count": 1,
   "metadata": {},
   "outputs": [],
   "source": [
    "paris_agreement_signatories = [\n",
    "    \"Afghanistan\", \"Albania\", \"Algeria\", \"Andorra\", \"Angola\", \"Antigua and Barbuda\", \n",
    "    \"Argentina\", \"Armenia\", \"Australia\", \"Austria\", \"Azerbaijan\", \"Bahamas\", \n",
    "    \"Bahrain\", \"Bangladesh\", \"Barbados\", \"Belarus\", \"Belgium\", \"Belize\", \"Benin\", \n",
    "    \"Bhutan\", \"Bolivia\", \"Bosnia and Herzegovina\", \"Botswana\", \"Brazil\", \n",
    "    \"Brunei Darussalam\", \"Bulgaria\", \"Burkina Faso\", \"Burundi\", \"Cabo Verde\", \n",
    "    \"Cambodia\", \"Cameroon\", \"Canada\", \"Central African Republic\", \"Chad\", \"Chile\", \n",
    "    \"China\", \"Colombia\", \"Comoros\", \"Congo\", \"Cook Islands\", \"Costa Rica\", \n",
    "    \"Croatia\", \"Cuba\", \"Cyprus\", \"Czech Republic\", \"Democratic People's Republic of Korea\", \n",
    "    \"Democratic Republic of the Congo\", \"Denmark\", \"Djibouti\", \"Dominica\", \n",
    "    \"Dominican Republic\", \"Ecuador\", \"Egypt\", \"El Salvador\", \"Equatorial Guinea\", \n",
    "    \"Eritrea\", \"Estonia\", \"Eswatini\", \"Ethiopia\", \"European Union\", \"Fiji\", \"Finland\", \n",
    "    \"France\", \"Gabon\", \"Gambia\", \"Georgia\", \"Germany\", \"Ghana\", \"Greece\", \"Grenada\", \n",
    "    \"Guatemala\", \"Guinea\", \"Guinea-Bissau\", \"Guyana\", \"Haiti\", \"Honduras\", \"Hungary\", \n",
    "    \"Iceland\", \"India\", \"Indonesia\", \"Iran\", \"Iraq\", \"Ireland\", \"Israel\", \"Italy\", \n",
    "    \"Jamaica\", \"Japan\", \"Jordan\", \"Kazakhstan\", \"Kenya\", \"Kiribati\", \"Kuwait\", \n",
    "    \"Kyrgyzstan\", \"Lao People's Democratic Republic\", \"Latvia\", \"Lebanon\", \"Lesotho\", \n",
    "    \"Liberia\", \"Libya\", \"Liechtenstein\", \"Lithuania\", \"Luxembourg\", \"Madagascar\", \n",
    "    \"Malawi\", \"Malaysia\", \"Maldives\", \"Mali\", \"Malta\", \"Marshall Islands\", \"Mauritania\", \n",
    "    \"Mauritius\", \"Mexico\", \"Micronesia (Federated States of)\", \"Monaco\", \"Mongolia\", \n",
    "    \"Montenegro\", \"Morocco\", \"Mozambique\", \"Myanmar\", \"Namibia\", \"Nauru\", \"Nepal\", \n",
    "    \"Netherlands\", \"New Zealand\", \"Nicaragua\", \"Niger\", \"Nigeria\", \"North Macedonia\", \n",
    "    \"Norway\", \"Oman\", \"Pakistan\", \"Palau\", \"Panama\", \"Papua New Guinea\", \"Paraguay\", \n",
    "    \"Peru\", \"Philippines\", \"Poland\", \"Portugal\", \"Qatar\", \"Republic of Korea\", \n",
    "    \"Republic of Moldova\", \"Romania\", \"Russian Federation\", \"Rwanda\", \"Saint Kitts and Nevis\", \n",
    "    \"Saint Lucia\", \"Saint Vincent and the Grenadines\", \"Samoa\", \"San Marino\", \"Sao Tome and Principe\", \n",
    "    \"Saudi Arabia\", \"Senegal\", \"Serbia\", \"Seychelles\", \"Sierra Leone\", \"Singapore\", \n",
    "    \"Slovakia\", \"Slovenia\", \"Solomon Islands\", \"Somalia\", \"South Africa\", \"South Sudan\", \n",
    "    \"Spain\", \"Sri Lanka\", \"Sudan\", \"Suriname\", \"Sweden\", \"Switzerland\", \"Syrian Arab Republic\", \n",
    "    \"Tajikistan\", \"Tanzania\", \"Thailand\", \"Timor-Leste\", \"Togo\", \"Tonga\", \"Trinidad and Tobago\", \n",
    "    \"Tunisia\", \"Turkey\", \"Turkmenistan\", \"Tuvalu\", \"Uganda\", \"Ukraine\", \"United Arab Emirates\", \n",
    "    \"United Kingdom of Great Britain and Northern Ireland\", \"United States of America\", \"Uruguay\", \n",
    "    \"Uzbekistan\", \"Vanuatu\", \"Venezuela\", \"Viet Nam\", \"Yemen\", \"Zambia\", \"Zimbabwe\"\n",
    "]\n"
   ]
  },
  {
   "cell_type": "markdown",
   "metadata": {},
   "source": [
    "# Import and test Tavily Search "
   ]
  },
  {
   "cell_type": "code",
   "execution_count": 2,
   "metadata": {},
   "outputs": [
    {
     "data": {
      "text/plain": [
       "[Document(page_content='Related Topics\\nTop Stories\\nThe price of peace between Israelis and Palestinians\\n\\'Absolutely no\\': Israel\\'s ambassador to UK rejects two-state solution\\nPutin tells Russia his war objectives are unchanged\\nFeatures\\n\\'She was like a tsunami\\' - the unstoppable rise of Bonmati\\nThe risks to Biden as Republicans ramp up impeachment\\nHong Kong\\'s universities shrivel in Beijing\\'s grip\\nThe Afghans stuck on the border trying to reach the US\\n\\'We would vote for peace in Congo - if we had a vote\\'\\nHamas support grows among Palestinians in West Bank\\n The number of public charging points had increased to over 50,000 by the end of October 2023 - up by 45% over the past year - but their deployment requires \"rapid acceleration\" to meet the increasing demand, the CCC says.\\n The miracle drugs priced out of patients\\' reach\\nCan you solve GCHQ\\'s codebreaker challenge for kids?\\nWhy 2024 may be the year of \\'surprise travel\\'\\nElsewhere on the BBC\\nWhy US \\'YOLO\\' spending baffles economists\\nKarakalpakstan: Use this form to ask your question:\\nIf you are reading this page and can\\'t see the form you will need to visit the mobile version of the BBC website to submit your question or send them via email to YourQuestions@bbc.co.uk. The ability to capture carbon before it is released - or take it out of the atmosphere and store it - will be important if the UK is to reach net zero.\\n', metadata={'title': 'Climate change: Is the UK on track to meet its net zero targets?', 'source': 'https://www.bbc.co.uk/news/58160547', 'score': 0.95257, 'images': None}),\n",
       " Document(page_content='The UK has set the most ambitious target to reduce carbon emissions by 68% by 2030 compared to 1990 levels - and is the only major economy to have set a target of 77% for 2035.', metadata={'title': 'PM recommits UK to Net Zero by 2050 and pledges a \"fairer ... - GOV.UK', 'source': 'https://www.gov.uk/government/news/pm-recommits-uk-to-net-zero-by-2050-and-pledges-a-fairer-path-to-achieving-target-to-ease-the-financial-burden-on-british-families', 'score': 0.94871, 'images': None}),\n",
       " Document(page_content='Navigation menu\\nServices and information\\nGovernment activity\\nDepartments, agencies and public bodies\\nNews stories, speeches, letters and notices\\nDetailed guidance, regulations and rules\\nReports, analysis and official statistics\\nConsultations and strategy\\nData, Freedom of Information releases and corporate reports\\nSearch\\nPopular on GOV.UK\\nUK sets ambitious new climate target ahead of UN Summit\\nA new plan aims for at least 68% reduction in greenhouse gas emissions by the end of the decade, compared to 1990 levels.\\n Recognising the urgency to go further to tackle climate change, the UK’s new target to reduce greenhouse gas emissions – our Nationally Determined Contribution (NDC) under the Paris Climate Agreement – is among the highest in the world and commits the UK to cutting emissions at the fastest rate of any major economy so far.\\n With a £7.5 billion low-carbon investment programme, including building the world’s largest offshore wind farm at Dogger Bank, we’re playing our part and want to do more to demonstrate the UK’s international leadership as we build towards COP26 next year – from pioneering carbon capture and storage technology to building the network infrastructure needed to accommodate the coming surge in renewables, electric vehicles and heat pumps.\\n Departments across government have worked to identify the highest possible ambition for the UK’s target, building on robust analysis of domestic decarbonisation potential; reflecting advice from the CCC and reflecting the temperature goals of the Paris Agreement and the equity principles identified in the IPCC 5th Assessment Report.\\n As the leading bank in the UK for business customers we have a significant responsibility to lead the way in helping people across the UK tackle climate change and reduce our greenhouse gas emissions and we welcome the government’s announcement today.\\n', metadata={'title': 'UK sets ambitious new climate target ahead of UN Summit', 'source': 'https://www.gov.uk/government/news/uk-sets-ambitious-new-climate-target-ahead-of-un-summit', 'score': 0.93768, 'images': None}),\n",
       " Document(page_content=\"The UK government will set the world's most ambitious climate change target into law to reduce emissions by 78% by 2035 compared to 1990 levels, it was announced today (Tuesday 20 April).\", metadata={'title': 'UK enshrines new target in law to slash emissions by 78% by 2035', 'source': 'https://www.gov.uk/government/news/uk-enshrines-new-target-in-law-to-slash-emissions-by-78-by-2035', 'score': 0.92978, 'images': None}),\n",
       " Document(page_content='In 2019, total UK greenhouse gas emissions were 45% per cent lower than in 1990. Achieving the new target, a 68% cut, will require the UK working 50% harder than it currently is. Between 2008 and ...', metadata={'title': \"Climate change: UK aim of 68% emissions cut a 'colossal challenge' - BBC\", 'source': 'https://www.bbc.com/news/science-environment-55179008', 'score': 0.92113, 'images': None}),\n",
       " Document(page_content='The British government said on Tuesday that claims it was dropping its International Climate Finance pledge are false, after the Guardian reported the country was planning to drop its flagship 11. ...', metadata={'title': 'UK refutes claims it is dropping $14.76 billion climate pledge', 'source': 'https://www.reuters.com/world/uk/uk-set-drop-1476-bln-climate-pledge-guardian-2023-07-04/', 'score': 0.89153, 'images': None}),\n",
       " Document(page_content='The UK will continue to press governments around the world to cut greenhouse gas emissions urgently in the next year to limit global heating to 1.5C, after the UN climate talks that concluded last ...', metadata={'title': 'UK will press governments to stick to climate pledges, says Cop26 ...', 'source': 'https://www.theguardian.com/environment/2021/nov/23/uk-governments-climate-pledges-cop26-president-alok-sharma', 'score': 0.88938, 'images': None}),\n",
       " Document(page_content='Radical new climate change commitments will set the UK on course to cut carbon emissions by 78% by 2035, the UK government has announced. Hitting the targets would require more electric cars, low ...', metadata={'title': 'Climate change: UK to speed up target to cut carbon emissions - BBC', 'source': 'https://www.bbc.com/news/uk-politics-56807520', 'score': 0.85476, 'images': None}),\n",
       " Document(page_content=\"The UK government has confirmed reports that it will slash emissions by 78 per cent by 2035, when compared to levels in 1990. This is the level of reduction that the UK's independent climate ...\", metadata={'title': 'UK confirms it will set a tougher climate pledge for 2035', 'source': 'https://www.independent.co.uk/climate-change/news/uk-climate-pledge-2035-emissions-b1834465.html', 'score': 0.82925, 'images': None}),\n",
       " Document(page_content='The UK already has a 2050 target - to reduce emissions by 80%. That was agreed by MPs under the Climate Change Act in 2008, but will now be amended to the new, much tougher, goal.', metadata={'title': 'Climate change: UK government to commit to 2050 target - BBC', 'source': 'https://www.bbc.com/news/science-environment-48596775', 'score': 0.82327, 'images': None})]"
      ]
     },
     "execution_count": 2,
     "metadata": {},
     "output_type": "execute_result"
    }
   ],
   "source": [
    "from langchain_community.retrievers import TavilySearchAPIRetriever\n",
    "\n",
    "retriever = TavilySearchAPIRetriever(k=10)\n",
    "\n",
    "retriever.invoke(\"Has UK reduced their climate pledge?\")"
   ]
  },
  {
   "cell_type": "markdown",
   "metadata": {},
   "source": [
    "# Prepare the internet search chain"
   ]
  },
  {
   "cell_type": "code",
   "execution_count": 3,
   "metadata": {},
   "outputs": [],
   "source": [
    "from langchain_core.output_parsers import StrOutputParser\n",
    "from langchain_core.prompts import ChatPromptTemplate\n",
    "from langchain_core.runnables import RunnablePassthrough\n",
    "from langchain_openai import ChatOpenAI\n",
    "from langchain.output_parsers import PydanticOutputParser\n",
    "from langchain.prompts import PromptTemplate\n",
    "from langchain_core.pydantic_v1 import BaseModel, Field, validator\n",
    "\n",
    "llm = ChatOpenAI(model=\"gpt-4-0125-preview\", temperature=0)\n",
    "\n",
    "class Response(BaseModel):\n",
    "    response: str = Field(description=\"Yes or No on any reduction of the climate pledge\")\n",
    "    policy_delay: str = Field(description=\"if yes due to Policy delay describe here otherwise N/A\")\n",
    "    scope_change: str = Field(description=\"if yes due to Scope Change describe here otherwise N/A\")\n",
    "    financing_reduction: str = Field(description=\"if yes due to financing reduction describe here otherwise N/A\")\n",
    "    other: str = Field(description=\"if yes due to other reasons describe here otherwise N/A\")\n",
    "    source: str = Field(description=\"source of the response otherwise N/A\")\n",
    "\n",
    "prompt = ChatPromptTemplate.from_template(\n",
    "    \"\"\"Answer the question based only on the context provided.\n",
    "\n",
    "Context: {context}\n",
    "\n",
    "Question: {question}\n",
    "\"\"\"\n",
    ")\n",
    "\n",
    "parser = PydanticOutputParser(pydantic_object=Response)\n",
    "\n",
    "prompt = PromptTemplate(\n",
    "    template=\"\"\"Answer the question based only on the context provided.\n",
    "\n",
    "    {format_instructions}\n",
    "\n",
    "    Context: {context}\n",
    "\n",
    "    Question: {question}\n",
    "    \"\"\",\n",
    "    input_variables=[\"question\", \"context\"],\n",
    "    partial_variables={\"format_instructions\": parser.get_format_instructions()},\n",
    ")\n",
    "\n",
    "chain = (\n",
    "    RunnablePassthrough.assign(context=(lambda x: x[\"question\"]) | retriever)\n",
    "    | prompt\n",
    "    | llm\n",
    "    | parser\n",
    ")"
   ]
  },
  {
   "cell_type": "markdown",
   "metadata": {},
   "source": [
    "# Run the chain loop over all of the countries"
   ]
  },
  {
   "cell_type": "code",
   "execution_count": 5,
   "metadata": {},
   "outputs": [
    {
     "name": "stderr",
     "output_type": "stream",
     "text": [
      "100%|██████████| 194/194 [02:07<00:00,  1.53it/s]\n"
     ]
    }
   ],
   "source": [
    "import pandas as pd\n",
    "from tqdm import tqdm\n",
    "from time import sleep\n",
    "df_dict = {\"country\":[], \"response\": [], \"policy_delay\": [], \"scope_change\": [], \"financing_reduction\": [], \"other\": [], \"source\": []}\n",
    "for country in tqdm(paris_agreement_signatories):\n",
    "    df_dict[\"country\"].append(country)\n",
    "    sleep(0.5)\n",
    "    try:\n",
    "        r = chain.invoke({\"question\": f\"Since January 2023, Has {country} announced or implemented any chaanges to its climate or green policy goals, including but not limited to delays in policy implementation, changes in the scope or scale of environmental policies, reduction in financing for green initiatives, or any actions that signify a shift towards increased fossil fuel usage or other environmentally harmful practices? Include details on specific policies affected (e.g. renewable energy targets, emissions reduction goals), nature of the changes (policy delays, scope change, financing reduction) and any notable shifts towards 'more brown' activities like new fossil fuel exploration or drilling licenses.\"})#({\"question\": f\"Has {country} revised climate goals or green policies since january 2023? include policy delays, scope changes, financing cuts or increased fossil fuel activities.\"}) #({\"question\": f\"Has {country} reduced their climate pledge\"})\n",
    "        df_dict[\"response\"].append(r.response)\n",
    "        df_dict[\"policy_delay\"].append(r.policy_delay)\n",
    "        df_dict[\"scope_change\"].append(r.scope_change)\n",
    "        df_dict[\"financing_reduction\"].append(r.financing_reduction)\n",
    "        df_dict[\"other\"].append(r.other)\n",
    "        df_dict[\"source\"].append(r.source)\n",
    "    except:\n",
    "        df_dict[\"response\"].append('There was a problem generating a response')\n",
    "        df_dict[\"policy_delay\"].append('There was a problem generating a response')\n",
    "        df_dict[\"scope_change\"].append('There was a problem generating a response')\n",
    "        df_dict[\"financing_reduction\"].append('There was a problem generating a response')\n",
    "        df_dict[\"other\"].append('There was a problem generating a response')\n",
    "        df_dict[\"source\"].append('There was a problem generating a response')\n",
    "df = pd.DataFrame.from_dict(df_dict)\n",
    "df.to_csv(\"anabana_complex.csv\") # pick your desired file name"
   ]
  }
 ],
 "metadata": {
  "kernelspec": {
   "display_name": "base",
   "language": "python",
   "name": "python3"
  },
  "language_info": {
   "codemirror_mode": {
    "name": "ipython",
    "version": 3
   },
   "file_extension": ".py",
   "mimetype": "text/x-python",
   "name": "python",
   "nbconvert_exporter": "python",
   "pygments_lexer": "ipython3",
   "version": "3.10.9"
  }
 },
 "nbformat": 4,
 "nbformat_minor": 2
}
